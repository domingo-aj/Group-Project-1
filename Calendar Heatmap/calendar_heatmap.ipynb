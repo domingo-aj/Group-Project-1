{
 "cells": [
  {
   "cell_type": "code",
   "execution_count": 23,
   "id": "fc042301",
   "metadata": {},
   "outputs": [],
   "source": [
    "#imports\n",
    "import matplotlib as mpl\n",
    "import calmap\n",
    "import calplot\n",
    "import matplotlib.pyplot as plt\n",
    "import pandas as pd\n",
    "import datetime\n",
    "from datetime import date\n",
    "from pprint import pprint"
   ]
  },
  {
   "cell_type": "code",
   "execution_count": 2,
   "id": "c4366c6b",
   "metadata": {},
   "outputs": [],
   "source": [
    "summary2015 = pd.read_csv('../Data_Cleaning/clean_data/focused_airports_2015.csv')\n",
    "summary2016 = pd.read_csv('../Data_Cleaning/clean_data/focused_airports_2016.csv')\n",
    "summary2017 = pd.read_csv('../Data_Cleaning/clean_data/focused_airports_2017.csv')\n",
    "summary2018 = pd.read_csv('../Data_Cleaning/clean_data/focused_airports_2018.csv')\n",
    "\n",
    "summary1 = summary2015.append(summary2016)\n",
    "summary2 = summary1.append(summary2017)\n",
    "summary = summary2.append(summary2018)"
   ]
  },
  {
   "cell_type": "code",
   "execution_count": 3,
   "id": "dd3180d6",
   "metadata": {},
   "outputs": [],
   "source": [
    "summary_date = summary.set_index('Date', inplace=True)\n",
    "summary_date = summary.index = pd.to_datetime(summary.index)"
   ]
  },
  {
   "cell_type": "code",
   "execution_count": 4,
   "id": "fd7683f3",
   "metadata": {},
   "outputs": [],
   "source": [
    "cancelled = summary.loc[summary[\"Weather Delay\"] == \"CANCELLED\"]\n",
    "cancelled = cancelled.drop(columns=['Destination', 'Expected Departure Time', 'Expected Arrival Time', 'Distance'])"
   ]
  },
  {
   "cell_type": "code",
   "execution_count": 5,
   "id": "e9eb69f5",
   "metadata": {},
   "outputs": [],
   "source": [
    "non_cancelled = summary.loc[summary[\"Weather Delay\"] != \"CANCELLED\"]\n",
    "non_cancelled = non_cancelled.drop(columns=['Destination', 'Expected Departure Time', 'Expected Arrival Time', 'Distance'])"
   ]
  },
  {
   "cell_type": "code",
   "execution_count": 6,
   "id": "6d6c2e48",
   "metadata": {},
   "outputs": [],
   "source": [
    "dfw_c = cancelled.loc[cancelled[\"Origin\"] == \"DFW\"].resample('D').count().reset_index()\n",
    "atl_c = cancelled.loc[cancelled[\"Origin\"] == \"ATL\"].resample('D').count().reset_index()\n",
    "den_c = cancelled.loc[cancelled[\"Origin\"] == \"DEN\"].resample('D').count().reset_index()\n",
    "lax_c = cancelled.loc[cancelled[\"Origin\"] == \"LAX\"].resample('D').count().reset_index()\n",
    "oha_c = cancelled.loc[cancelled[\"Origin\"] == \"ORD\"].resample('D').count().reset_index()"
   ]
  },
  {
   "cell_type": "code",
   "execution_count": 7,
   "id": "7e1f93c2",
   "metadata": {},
   "outputs": [],
   "source": [
    "dfw_nc = non_cancelled.loc[non_cancelled[\"Origin\"] == \"DFW\"].resample('D').count().reset_index()\n",
    "atl_nc = non_cancelled.loc[non_cancelled[\"Origin\"] == \"ATL\"].resample('D').count().reset_index()\n",
    "den_nc = non_cancelled.loc[non_cancelled[\"Origin\"] == \"DEN\"].resample('D').count().reset_index()\n",
    "lax_nc = non_cancelled.loc[non_cancelled[\"Origin\"] == \"LAX\"].resample('D').count().reset_index()\n",
    "oha_nc = non_cancelled.loc[non_cancelled[\"Origin\"] == \"ORD\"].resample('D').count().reset_index()"
   ]
  },
  {
   "cell_type": "code",
   "execution_count": 28,
   "id": "724550d4",
   "metadata": {},
   "outputs": [
    {
     "data": {
      "text/plain": [
       "0      2015-01-01\n",
       "1      2015-01-02\n",
       "2      2015-01-03\n",
       "3      2015-01-04\n",
       "4      2015-01-05\n",
       "          ...    \n",
       "1456   2018-12-27\n",
       "1457   2018-12-28\n",
       "1458   2018-12-29\n",
       "1459   2018-12-30\n",
       "1460   2018-12-31\n",
       "Name: Date, Length: 1461, dtype: datetime64[ns]"
      ]
     },
     "execution_count": 28,
     "metadata": {},
     "output_type": "execute_result"
    }
   ],
   "source": [
    "daily_cancels = cancelled.resample('D').count()\n",
    "daily_nc = non_cancelled.resample('D').count()\n",
    "daily_cancels = daily_cancels[\"Weather Delay\"].reset_index()\n",
    "daily_nc = daily_nc[\"Weather Delay\"].reset_index()\n",
    "\n",
    "daily_summed = pd.merge(daily_cancels, daily_nc, on=\"Date\")\n",
    "daily_summed = daily_summed.rename(columns={\"Weather Delay_x\": \"# Cancelled Flights\", \n",
    "                                                 \"Weather Delay_y\": \"# Non-Cancelled Flights\"})\n",
    "\n",
    "daily_summed[\"Total Flights\"] = daily_summed[\"# Cancelled Flights\"] + daily_summed[\"# Non-Cancelled Flights\"]\n",
    "daily_summed[\"Cancel Rate (%)\"] = (daily_summed[\"# Cancelled Flights\"] / daily_summed[\"Total Flights\"]) * 100\n",
    "\n",
    "daily_summed['Date'] = pd.to_datetime(daily_summed['Date'])\n",
    "\n",
    "instance = daily_summed['Date']\n",
    "instance\n",
    "\n",
    "#print(\"ISO Date:{}\".format(instance.isocalendar()))\n",
    "\n",
    "#daily_summed = daily_summed.set_index('Date')\n",
    "\n",
    "# daily_summed.head()"
   ]
  },
  {
   "cell_type": "code",
   "execution_count": 9,
   "id": "7488089d",
   "metadata": {},
   "outputs": [],
   "source": [
    "dfw_summed = pd.merge(dfw_c, dfw_nc, on=\"Date\").drop(columns=['Origin_x', 'Origin_y'])\n",
    "dfw_summed = dfw_summed.rename(columns={\"Weather Delay_x\": \"# Cancelled Flights\", \n",
    "                                                 \"Weather Delay_y\": \"# Non-Cancelled Flights\"})\n",
    "\n",
    "dfw_summed[\"Total Flights\"] = dfw_summed[\"# Cancelled Flights\"] + dfw_summed[\"# Non-Cancelled Flights\"]\n",
    "dfw_summed[\"Cancel Rate (%)\"] = (dfw_summed[\"# Cancelled Flights\"] / dfw_summed[\"Total Flights\"]) * 100"
   ]
  },
  {
   "cell_type": "code",
   "execution_count": 11,
   "id": "07bc7a7a",
   "metadata": {},
   "outputs": [],
   "source": [
    "atl_summed = pd.merge(atl_c, atl_nc, on=\"Date\").drop(columns=['Origin_x', 'Origin_y'])\n",
    "atl_summed = atl_summed.rename(columns={\"Weather Delay_x\": \"# Cancelled Flights\", \n",
    "                                                 \"Weather Delay_y\": \"# Non-Cancelled Flights\"})\n",
    "\n",
    "atl_summed[\"Total Flights\"] = atl_summed[\"# Cancelled Flights\"] + atl_summed[\"# Non-Cancelled Flights\"]\n",
    "atl_summed[\"Cancel Rate (%)\"] = (atl_summed[\"# Cancelled Flights\"] / atl_summed[\"Total Flights\"]) * 100"
   ]
  },
  {
   "cell_type": "code",
   "execution_count": 12,
   "id": "6cf8fdcb",
   "metadata": {},
   "outputs": [],
   "source": [
    "den_summed = pd.merge(den_c, den_nc, on=\"Date\").drop(columns=['Origin_x', 'Origin_y'])\n",
    "den_summed = den_summed.rename(columns={\"Weather Delay_x\": \"# Cancelled Flights\", \n",
    "                                                 \"Weather Delay_y\": \"# Non-Cancelled Flights\"})\n",
    "\n",
    "den_summed[\"Total Flights\"] = den_summed[\"# Cancelled Flights\"] + den_summed[\"# Non-Cancelled Flights\"]\n",
    "den_summed[\"Cancel Rate (%)\"] = (den_summed[\"# Cancelled Flights\"] / den_summed[\"Total Flights\"]) * 100"
   ]
  },
  {
   "cell_type": "code",
   "execution_count": 13,
   "id": "6ff22fd1",
   "metadata": {},
   "outputs": [],
   "source": [
    "lax_summed = pd.merge(lax_c, lax_nc, on=\"Date\").drop(columns=['Origin_x', 'Origin_y'])\n",
    "lax_summed = lax_summed.rename(columns={\"Weather Delay_x\": \"# Cancelled Flights\", \n",
    "                                                 \"Weather Delay_y\": \"# Non-Cancelled Flights\"})\n",
    "\n",
    "lax_summed[\"Total Flights\"] = lax_summed[\"# Cancelled Flights\"] + lax_summed[\"# Non-Cancelled Flights\"]\n",
    "lax_summed[\"Cancel Rate (%)\"] = (lax_summed[\"# Cancelled Flights\"] / lax_summed[\"Total Flights\"]) * 100"
   ]
  },
  {
   "cell_type": "code",
   "execution_count": 14,
   "id": "228c1214",
   "metadata": {},
   "outputs": [],
   "source": [
    "ord_summed = pd.merge(oha_c, oha_nc, on=\"Date\").drop(columns=['Origin_x', 'Origin_y'])\n",
    "ord_summed = ord_summed.rename(columns={\"Weather Delay_x\": \"# Cancelled Flights\", \n",
    "                                                 \"Weather Delay_y\": \"# Non-Cancelled Flights\"})\n",
    "\n",
    "ord_summed[\"Total Flights\"] = ord_summed[\"# Cancelled Flights\"] + ord_summed[\"# Non-Cancelled Flights\"]\n",
    "ord_summed[\"Cancel Rate (%)\"] = (ord_summed[\"# Cancelled Flights\"] / ord_summed[\"Total Flights\"]) * 100"
   ]
  },
  {
   "cell_type": "code",
   "execution_count": 24,
   "id": "1f4c09c6",
   "metadata": {},
   "outputs": [
    {
     "ename": "AttributeError",
     "evalue": "'DatetimeIndex' object has no attribute 'isocalendar'",
     "output_type": "error",
     "traceback": [
      "\u001b[0;31m---------------------------------------------------------------------------\u001b[0m",
      "\u001b[0;31mAttributeError\u001b[0m                            Traceback (most recent call last)",
      "\u001b[0;32m/var/folders/_5/tl_fg6kj0fgcl6db6q221h7h0000gn/T/ipykernel_18715/2600057465.py\u001b[0m in \u001b[0;36m<module>\u001b[0;34m\u001b[0m\n\u001b[1;32m      3\u001b[0m \u001b[0mtotals\u001b[0m\u001b[0;34m.\u001b[0m\u001b[0mhead\u001b[0m\u001b[0;34m(\u001b[0m\u001b[0;34m)\u001b[0m\u001b[0;34m\u001b[0m\u001b[0;34m\u001b[0m\u001b[0m\n\u001b[1;32m      4\u001b[0m \u001b[0;34m\u001b[0m\u001b[0m\n\u001b[0;32m----> 5\u001b[0;31m \u001b[0mcalmap\u001b[0m\u001b[0;34m.\u001b[0m\u001b[0mcalendarplot\u001b[0m\u001b[0;34m(\u001b[0m\u001b[0mdata\u001b[0m\u001b[0;34m=\u001b[0m\u001b[0mtotals\u001b[0m\u001b[0;34m,\u001b[0m \u001b[0myearlabels\u001b[0m\u001b[0;34m=\u001b[0m\u001b[0;32mTrue\u001b[0m\u001b[0;34m)\u001b[0m\u001b[0;34m\u001b[0m\u001b[0;34m\u001b[0m\u001b[0m\n\u001b[0m\u001b[1;32m      6\u001b[0m \u001b[0;34m\u001b[0m\u001b[0m\n\u001b[1;32m      7\u001b[0m \u001b[0;31m#calmap.calendarplot(totals, yearlabels=True, yearascending=True, yearlabel_kws=None, subplot_kws=None, gridspec_kws=None, fig_kws=None, **kwargs)\u001b[0m\u001b[0;34m\u001b[0m\u001b[0;34m\u001b[0m\u001b[0;34m\u001b[0m\u001b[0m\n",
      "\u001b[0;32m~/opt/anaconda3/envs/PythonData/lib/python3.7/site-packages/calmap/__init__.py\u001b[0m in \u001b[0;36mcalendarplot\u001b[0;34m(data, how, yearlabels, yearascending, yearlabel_kws, subplot_kws, gridspec_kws, fig_kws, fig_suptitle, vmin, vmax, **kwargs)\u001b[0m\n\u001b[1;32m    401\u001b[0m \u001b[0;34m\u001b[0m\u001b[0m\n\u001b[1;32m    402\u001b[0m     \u001b[0;32mfor\u001b[0m \u001b[0myear\u001b[0m\u001b[0;34m,\u001b[0m \u001b[0max\u001b[0m \u001b[0;32min\u001b[0m \u001b[0mzip\u001b[0m\u001b[0;34m(\u001b[0m\u001b[0myears\u001b[0m\u001b[0;34m,\u001b[0m \u001b[0maxes\u001b[0m\u001b[0;34m)\u001b[0m\u001b[0;34m:\u001b[0m\u001b[0;34m\u001b[0m\u001b[0;34m\u001b[0m\u001b[0m\n\u001b[0;32m--> 403\u001b[0;31m         \u001b[0myearplot\u001b[0m\u001b[0;34m(\u001b[0m\u001b[0mby_day\u001b[0m\u001b[0;34m,\u001b[0m \u001b[0myear\u001b[0m\u001b[0;34m=\u001b[0m\u001b[0myear\u001b[0m\u001b[0;34m,\u001b[0m \u001b[0mhow\u001b[0m\u001b[0;34m=\u001b[0m\u001b[0;32mNone\u001b[0m\u001b[0;34m,\u001b[0m \u001b[0max\u001b[0m\u001b[0;34m=\u001b[0m\u001b[0max\u001b[0m\u001b[0;34m,\u001b[0m \u001b[0;34m**\u001b[0m\u001b[0mkwargs\u001b[0m\u001b[0;34m)\u001b[0m\u001b[0;34m\u001b[0m\u001b[0;34m\u001b[0m\u001b[0m\n\u001b[0m\u001b[1;32m    404\u001b[0m         \u001b[0mmax_weeks\u001b[0m \u001b[0;34m=\u001b[0m \u001b[0mmax\u001b[0m\u001b[0;34m(\u001b[0m\u001b[0mmax_weeks\u001b[0m\u001b[0;34m,\u001b[0m \u001b[0max\u001b[0m\u001b[0;34m.\u001b[0m\u001b[0mget_xlim\u001b[0m\u001b[0;34m(\u001b[0m\u001b[0;34m)\u001b[0m\u001b[0;34m[\u001b[0m\u001b[0;36m1\u001b[0m\u001b[0;34m]\u001b[0m\u001b[0;34m)\u001b[0m\u001b[0;34m\u001b[0m\u001b[0;34m\u001b[0m\u001b[0m\n\u001b[1;32m    405\u001b[0m \u001b[0;34m\u001b[0m\u001b[0m\n",
      "\u001b[0;32m~/opt/anaconda3/envs/PythonData/lib/python3.7/site-packages/calmap/__init__.py\u001b[0m in \u001b[0;36myearplot\u001b[0;34m(data, year, how, vmin, vmax, cmap, fillcolor, linewidth, linecolor, daylabels, dayticks, monthlabels, monthticks, monthly_border, ax, **kwargs)\u001b[0m\n\u001b[1;32m    187\u001b[0m             \u001b[0;34m\"fill\"\u001b[0m\u001b[0;34m:\u001b[0m \u001b[0;36m1\u001b[0m\u001b[0;34m,\u001b[0m\u001b[0;34m\u001b[0m\u001b[0;34m\u001b[0m\u001b[0m\n\u001b[1;32m    188\u001b[0m             \u001b[0;34m\"day\"\u001b[0m\u001b[0;34m:\u001b[0m \u001b[0mby_day\u001b[0m\u001b[0;34m.\u001b[0m\u001b[0mindex\u001b[0m\u001b[0;34m.\u001b[0m\u001b[0mdayofweek\u001b[0m\u001b[0;34m,\u001b[0m\u001b[0;34m\u001b[0m\u001b[0;34m\u001b[0m\u001b[0m\n\u001b[0;32m--> 189\u001b[0;31m             \u001b[0;34m\"week\"\u001b[0m\u001b[0;34m:\u001b[0m \u001b[0mby_day\u001b[0m\u001b[0;34m.\u001b[0m\u001b[0mindex\u001b[0m\u001b[0;34m.\u001b[0m\u001b[0misocalendar\u001b[0m\u001b[0;34m(\u001b[0m\u001b[0;34m)\u001b[0m\u001b[0;34m.\u001b[0m\u001b[0mweek\u001b[0m\u001b[0;34m,\u001b[0m\u001b[0;34m\u001b[0m\u001b[0;34m\u001b[0m\u001b[0m\n\u001b[0m\u001b[1;32m    190\u001b[0m         }\n\u001b[1;32m    191\u001b[0m     )\n",
      "\u001b[0;31mAttributeError\u001b[0m: 'DatetimeIndex' object has no attribute 'isocalendar'"
     ]
    },
    {
     "data": {
      "image/png": "[encoded data removed]",
      "text/plain": [
       "<Figure size 432x288 with 4 Axes>"
      ]
     },
     "metadata": {
      "needs_background": "light"
     },
     "output_type": "display_data"
    }
   ],
   "source": [
    "#totals map\n",
    "totals = pd.Series(daily_summed[\"# Cancelled Flights\"]).astype(float)\n",
    "totals.head()\n",
    "\n",
    "\n",
    "#calmap.calendarplot(data=totals, yearlabels=True)\n",
    "\n",
    "#calmap.calendarplot(totals, yearlabels=True, yearascending=True, yearlabel_kws=None, subplot_kws=None, gridspec_kws=None, fig_kws=None, **kwargs)"
   ]
  },
  {
   "cell_type": "code",
   "execution_count": null,
   "id": "b6e50b10",
   "metadata": {},
   "outputs": [],
   "source": []
  }
 ],
 "metadata": {
  "kernelspec": {
   "display_name": "Python 3 (ipykernel)",
   "language": "python",
   "name": "python3"
  },
  "language_info": {
   "codemirror_mode": {
    "name": "ipython",
    "version": 3
   },
   "file_extension": ".py",
   "mimetype": "text/x-python",
   "name": "python",
   "nbconvert_exporter": "python",
   "pygments_lexer": "ipython3",
   "version": "3.7.7"
  }
 },
 "nbformat": 4,
 "nbformat_minor": 5
}
