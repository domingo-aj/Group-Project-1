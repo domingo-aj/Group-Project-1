{
 "cells": [
  {
   "cell_type": "code",
   "execution_count": 1,
   "id": "2ece961e",
   "metadata": {},
   "outputs": [],
   "source": [
    "#imports\n",
    "import matplotlib as mpl\n",
    "import calmap\n",
    "import calplot\n",
    "import matplotlib.pyplot as plt\n",
    "import pandas as pd\n",
    "import datetime\n",
    "from datetime import datetime\n",
    "from pprint import pprint"
   ]
  },
  {
   "cell_type": "code",
   "execution_count": 2,
   "id": "e2a5d469",
   "metadata": {},
   "outputs": [],
   "source": [
    "summary2015 = pd.read_csv('../Data_Cleaning/clean_data/focused_airports_2015.csv')\n",
    "summary2016 = pd.read_csv('../Data_Cleaning/clean_data/focused_airports_2016.csv')\n",
    "summary2017 = pd.read_csv('../Data_Cleaning/clean_data/focused_airports_2017.csv')\n",
    "summary2018 = pd.read_csv('../Data_Cleaning/clean_data/focused_airports_2018.csv')\n",
    "\n",
    "summary1 = summary2015.append(summary2016)\n",
    "summary2 = summary1.append(summary2017)\n",
    "summary = summary2.append(summary2018)"
   ]
  },
  {
   "cell_type": "code",
   "execution_count": 3,
   "id": "5a9ff57c",
   "metadata": {},
   "outputs": [],
   "source": [
    "summary_date = summary.set_index('Date', inplace=True)\n",
    "summary_date = summary.index = pd.to_datetime(summary.index)"
   ]
  },
  {
   "cell_type": "code",
   "execution_count": 4,
   "id": "15893473",
   "metadata": {},
   "outputs": [],
   "source": [
    "cancelled = summary.loc[summary[\"Weather Delay\"] == \"CANCELLED\"]\n",
    "cancelled = cancelled.drop(columns=['Destination', 'Expected Departure Time', 'Expected Arrival Time', 'Distance'])"
   ]
  },
  {
   "cell_type": "code",
   "execution_count": 5,
   "id": "1319c81a",
   "metadata": {},
   "outputs": [],
   "source": [
    "non_cancelled = summary.loc[summary[\"Weather Delay\"] != \"CANCELLED\"]\n",
    "non_cancelled = non_cancelled.drop(columns=['Destination', 'Expected Departure Time', 'Expected Arrival Time', 'Distance'])"
   ]
  },
  {
   "cell_type": "code",
   "execution_count": 6,
   "id": "3d13f88c",
   "metadata": {},
   "outputs": [],
   "source": [
    "dfw_c = cancelled.loc[cancelled[\"Origin\"] == \"DFW\"].resample('D').count().reset_index()\n",
    "atl_c = cancelled.loc[cancelled[\"Origin\"] == \"ATL\"].resample('D').count().reset_index()\n",
    "den_c = cancelled.loc[cancelled[\"Origin\"] == \"DEN\"].resample('D').count().reset_index()\n",
    "lax_c = cancelled.loc[cancelled[\"Origin\"] == \"LAX\"].resample('D').count().reset_index()\n",
    "oha_c = cancelled.loc[cancelled[\"Origin\"] == \"ORD\"].resample('D').count().reset_index()"
   ]
  },
  {
   "cell_type": "code",
   "execution_count": 7,
   "id": "2f879811",
   "metadata": {},
   "outputs": [],
   "source": [
    "dfw_nc = non_cancelled.loc[non_cancelled[\"Origin\"] == \"DFW\"].resample('D').count().reset_index()\n",
    "atl_nc = non_cancelled.loc[non_cancelled[\"Origin\"] == \"ATL\"].resample('D').count().reset_index()\n",
    "den_nc = non_cancelled.loc[non_cancelled[\"Origin\"] == \"DEN\"].resample('D').count().reset_index()\n",
    "lax_nc = non_cancelled.loc[non_cancelled[\"Origin\"] == \"LAX\"].resample('D').count().reset_index()\n",
    "oha_nc = non_cancelled.loc[non_cancelled[\"Origin\"] == \"ORD\"].resample('D').count().reset_index()"
   ]
  },
  {
   "cell_type": "code",
   "execution_count": 8,
   "id": "74a02509",
   "metadata": {},
   "outputs": [
    {
     "data": {
      "text/html": [
       "<div>\n",
       "<style scoped>\n",
       "    .dataframe tbody tr th:only-of-type {\n",
       "        vertical-align: middle;\n",
       "    }\n",
       "\n",
       "    .dataframe tbody tr th {\n",
       "        vertical-align: top;\n",
       "    }\n",
       "\n",
       "    .dataframe thead th {\n",
       "        text-align: right;\n",
       "    }\n",
       "</style>\n",
       "<table border=\"1\" class=\"dataframe\">\n",
       "  <thead>\n",
       "    <tr style=\"text-align: right;\">\n",
       "      <th></th>\n",
       "      <th># Cancelled Flights</th>\n",
       "      <th># Non-Cancelled Flights</th>\n",
       "      <th>Total Flights</th>\n",
       "      <th>Cancel Rate (%)</th>\n",
       "    </tr>\n",
       "    <tr>\n",
       "      <th>Date</th>\n",
       "      <th></th>\n",
       "      <th></th>\n",
       "      <th></th>\n",
       "      <th></th>\n",
       "    </tr>\n",
       "  </thead>\n",
       "  <tbody>\n",
       "    <tr>\n",
       "      <th>2015-01-01</th>\n",
       "      <td>168</td>\n",
       "      <td>3167</td>\n",
       "      <td>3335</td>\n",
       "      <td>5.037481</td>\n",
       "    </tr>\n",
       "    <tr>\n",
       "      <th>2015-01-02</th>\n",
       "      <td>36</td>\n",
       "      <td>3863</td>\n",
       "      <td>3899</td>\n",
       "      <td>0.923314</td>\n",
       "    </tr>\n",
       "    <tr>\n",
       "      <th>2015-01-03</th>\n",
       "      <td>28</td>\n",
       "      <td>3510</td>\n",
       "      <td>3538</td>\n",
       "      <td>0.791408</td>\n",
       "    </tr>\n",
       "    <tr>\n",
       "      <th>2015-01-04</th>\n",
       "      <td>63</td>\n",
       "      <td>3722</td>\n",
       "      <td>3785</td>\n",
       "      <td>1.664465</td>\n",
       "    </tr>\n",
       "    <tr>\n",
       "      <th>2015-01-05</th>\n",
       "      <td>52</td>\n",
       "      <td>3705</td>\n",
       "      <td>3757</td>\n",
       "      <td>1.384083</td>\n",
       "    </tr>\n",
       "  </tbody>\n",
       "</table>\n",
       "</div>"
      ],
      "text/plain": [
       "            # Cancelled Flights  # Non-Cancelled Flights  Total Flights  \\\n",
       "Date                                                                      \n",
       "2015-01-01                  168                     3167           3335   \n",
       "2015-01-02                   36                     3863           3899   \n",
       "2015-01-03                   28                     3510           3538   \n",
       "2015-01-04                   63                     3722           3785   \n",
       "2015-01-05                   52                     3705           3757   \n",
       "\n",
       "            Cancel Rate (%)  \n",
       "Date                         \n",
       "2015-01-01         5.037481  \n",
       "2015-01-02         0.923314  \n",
       "2015-01-03         0.791408  \n",
       "2015-01-04         1.664465  \n",
       "2015-01-05         1.384083  "
      ]
     },
     "execution_count": 8,
     "metadata": {},
     "output_type": "execute_result"
    }
   ],
   "source": [
    "daily_cancels = cancelled.resample('D').count()\n",
    "daily_nc = non_cancelled.resample('D').count()\n",
    "daily_cancels = daily_cancels[\"Weather Delay\"].reset_index()\n",
    "daily_nc = daily_nc[\"Weather Delay\"].reset_index()\n",
    "\n",
    "daily_summed = pd.merge(daily_cancels, daily_nc, on=\"Date\")\n",
    "daily_summed = daily_summed.rename(columns={\"Weather Delay_x\": \"# Cancelled Flights\", \n",
    "                                                 \"Weather Delay_y\": \"# Non-Cancelled Flights\"})\n",
    "\n",
    "daily_summed[\"Total Flights\"] = daily_summed[\"# Cancelled Flights\"] + daily_summed[\"# Non-Cancelled Flights\"]\n",
    "daily_summed[\"Cancel Rate (%)\"] = (daily_summed[\"# Cancelled Flights\"] / daily_summed[\"Total Flights\"]) * 100\n",
    "\n",
    "daily_summed['Date'] = pd.to_datetime(daily_summed['Date'])\n",
    "\n",
    "instance = daily_summed['Date']\n",
    "instance\n",
    "\n",
    "#print(\"ISO Date:{}\".format(instance.isocalendar()))\n",
    "\n",
    "daily_date = daily_summed.set_index('Date')\n",
    "\n",
    "daily_date.head()"
   ]
  },
  {
   "cell_type": "code",
   "execution_count": 9,
   "id": "9e95e8e6",
   "metadata": {},
   "outputs": [],
   "source": [
    "dfw_summed = pd.merge(dfw_c, dfw_nc, on=\"Date\").drop(columns=['Origin_x', 'Origin_y'])\n",
    "dfw_summed = dfw_summed.rename(columns={\"Weather Delay_x\": \"# Cancelled Flights\", \n",
    "                                                 \"Weather Delay_y\": \"# Non-Cancelled Flights\"})\n",
    "\n",
    "dfw_summed[\"Total Flights\"] = dfw_summed[\"# Cancelled Flights\"] + dfw_summed[\"# Non-Cancelled Flights\"]\n",
    "dfw_summed[\"Cancel Rate (%)\"] = (dfw_summed[\"# Cancelled Flights\"] / dfw_summed[\"Total Flights\"]) * 100"
   ]
  },
  {
   "cell_type": "code",
   "execution_count": 10,
   "id": "3532c819",
   "metadata": {},
   "outputs": [],
   "source": [
    "atl_summed = pd.merge(atl_c, atl_nc, on=\"Date\").drop(columns=['Origin_x', 'Origin_y'])\n",
    "atl_summed = atl_summed.rename(columns={\"Weather Delay_x\": \"# Cancelled Flights\", \n",
    "                                                 \"Weather Delay_y\": \"# Non-Cancelled Flights\"})\n",
    "\n",
    "atl_summed[\"Total Flights\"] = atl_summed[\"# Cancelled Flights\"] + atl_summed[\"# Non-Cancelled Flights\"]\n",
    "atl_summed[\"Cancel Rate (%)\"] = (atl_summed[\"# Cancelled Flights\"] / atl_summed[\"Total Flights\"]) * 100"
   ]
  },
  {
   "cell_type": "code",
   "execution_count": 11,
   "id": "0b661111",
   "metadata": {},
   "outputs": [],
   "source": [
    "den_summed = pd.merge(den_c, den_nc, on=\"Date\").drop(columns=['Origin_x', 'Origin_y'])\n",
    "den_summed = den_summed.rename(columns={\"Weather Delay_x\": \"# Cancelled Flights\", \n",
    "                                                 \"Weather Delay_y\": \"# Non-Cancelled Flights\"})\n",
    "\n",
    "den_summed[\"Total Flights\"] = den_summed[\"# Cancelled Flights\"] + den_summed[\"# Non-Cancelled Flights\"]\n",
    "den_summed[\"Cancel Rate (%)\"] = (den_summed[\"# Cancelled Flights\"] / den_summed[\"Total Flights\"]) * 100"
   ]
  },
  {
   "cell_type": "code",
   "execution_count": 12,
   "id": "0d788300",
   "metadata": {},
   "outputs": [],
   "source": [
    "lax_summed = pd.merge(lax_c, lax_nc, on=\"Date\").drop(columns=['Origin_x', 'Origin_y'])\n",
    "lax_summed = lax_summed.rename(columns={\"Weather Delay_x\": \"# Cancelled Flights\", \n",
    "                                                 \"Weather Delay_y\": \"# Non-Cancelled Flights\"})\n",
    "\n",
    "lax_summed[\"Total Flights\"] = lax_summed[\"# Cancelled Flights\"] + lax_summed[\"# Non-Cancelled Flights\"]\n",
    "lax_summed[\"Cancel Rate (%)\"] = (lax_summed[\"# Cancelled Flights\"] / lax_summed[\"Total Flights\"]) * 100"
   ]
  },
  {
   "cell_type": "code",
   "execution_count": 13,
   "id": "3be38a79",
   "metadata": {},
   "outputs": [],
   "source": [
    "ord_summed = pd.merge(oha_c, oha_nc, on=\"Date\").drop(columns=['Origin_x', 'Origin_y'])\n",
    "ord_summed = ord_summed.rename(columns={\"Weather Delay_x\": \"# Cancelled Flights\", \n",
    "                                                 \"Weather Delay_y\": \"# Non-Cancelled Flights\"})\n",
    "\n",
    "ord_summed[\"Total Flights\"] = ord_summed[\"# Cancelled Flights\"] + ord_summed[\"# Non-Cancelled Flights\"]\n",
    "ord_summed[\"Cancel Rate (%)\"] = (ord_summed[\"# Cancelled Flights\"] / ord_summed[\"Total Flights\"]) * 100"
   ]
  },
  {
   "cell_type": "code",
   "execution_count": 14,
   "id": "5a4aa7b1",
   "metadata": {},
   "outputs": [
    {
     "name": "stderr",
     "output_type": "stream",
     "text": [
      "findfont: Font family ['Helvetica'] not found. Falling back to DejaVu Sans.\n"
     ]
    },
    {
     "data": {
      "text/plain": [
       "(<Figure size 720x489.6 with 4 Axes>,\n",
       " array([<matplotlib.axes._subplots.AxesSubplot object at 0x000001FC8E0FAFC8>,\n",
       "        <matplotlib.axes._subplots.AxesSubplot object at 0x000001FC8E3B0148>,\n",
       "        <matplotlib.axes._subplots.AxesSubplot object at 0x000001FC8E3E6A88>,\n",
       "        <matplotlib.axes._subplots.AxesSubplot object at 0x000001FC8E41F9C8>],\n",
       "       dtype=object))"
      ]
     },
     "execution_count": 14,
     "metadata": {},
     "output_type": "execute_result"
    },
    {
     "data": {
      "image/png": "[encoded data removed]",
      "text/plain": [
       "<Figure size 720x489.6 with 4 Axes>"
      ]
     },
     "metadata": {
      "needs_background": "light"
     },
     "output_type": "display_data"
    }
   ],
   "source": [
    "#totals map\n",
    "totals = pd.Series(daily_date[\"# Cancelled Flights\"]).astype(float)\n",
    "totals.head()\n",
    "calplot.calplot(totals, cmap='YlGn', colorbar=False)\n",
    "\n",
    "# calplot.calplot(totals, yearlabels=True, yearascending=True, yearlabel_kws=None, subplot_kws=None, gridspec_kws=None, fig_kws=None)\n",
    "#calmap.calendarplot(totals, yearlabels=True, yearascending=True, yearlabel_kws=None, subplot_kws=None, gridspec_kws=None, fig_kws=None, **kwargs)"
   ]
  },
  {
   "cell_type": "code",
   "execution_count": null,
   "id": "661bd095",
   "metadata": {},
   "outputs": [],
   "source": [
    "# calplot.calplot(totals, yearlabels=True, yearascending=True, yearlabel_kws=None, subplot_kws=None, gridspec_kws=None, fig_kws=None, **kwargs)\""
   ]
  }
 ],
 "metadata": {
  "kernelspec": {
   "display_name": "PythonData",
   "language": "python",
   "name": "pythondata"
  },
  "language_info": {
   "codemirror_mode": {
    "name": "ipython",
    "version": 3
   },
   "file_extension": ".py",
   "mimetype": "text/x-python",
   "name": "python",
   "nbconvert_exporter": "python",
   "pygments_lexer": "ipython3",
   "version": "3.7.7"
  }
 },
 "nbformat": 4,
 "nbformat_minor": 5
}
