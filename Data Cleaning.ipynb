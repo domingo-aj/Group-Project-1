{
 "cells": [
  {
   "cell_type": "code",
   "execution_count": 8,
   "metadata": {},
   "outputs": [],
   "source": [
    "import pandas as pd"
   ]
  },
  {
   "cell_type": "code",
   "execution_count": 9,
   "metadata": {},
   "outputs": [],
   "source": [
    "def clean_flight_data(year):\n",
    "\n",
    "    file = \"raw_data/Flight_Details/\" + str(year) + \".csv\"\n",
    "\n",
    "    original_df = pd.read_csv(file, sep=\",\", header=0, index_col=False,\n",
    "                      usecols=[0,3,4,5,6,7,12,13,14,16,21,22,23,24,25,26],\n",
    "                      na_filter = True)\\\n",
    "                     .reset_index(drop=True)\\\n",
    "                     .fillna(0)\\\n",
    "                     .astype({'CARRIER_DELAY': 'int32',\n",
    "                              'WEATHER_DELAY': 'int32',\n",
    "                              'NAS_DELAY': 'int32',\n",
    "                              'SECURITY_DELAY': 'int32',\n",
    "                              'LATE_AIRCRAFT_DELAY': 'int32'})\n",
    "    # Streamline the Delay and Cancel information into 'weather' and 'not_weather' since that is all we care about.\n",
    "    clean_df = original_df.loc[:]\n",
    "\n",
    "    clean_df['Non Weather Delay'] = clean_df['CARRIER_DELAY']  + clean_df['NAS_DELAY'] + \\\n",
    "                                    clean_df['SECURITY_DELAY'] + clean_df['LATE_AIRCRAFT_DELAY']\n",
    "\n",
    "    clean_df = clean_df.drop(columns=['CARRIER_DELAY', 'NAS_DELAY', 'SECURITY_DELAY', 'LATE_AIRCRAFT_DELAY'])\n",
    "\n",
    "    clean_df.loc[clean_df['CANCELLATION_CODE'] == 'B', 'CANCELLATION_CODE'] = 'weather'\n",
    "    clean_df.loc[clean_df['CANCELLATION_CODE'] != 0, 'CANCELLATION_CODE'] = 'non weather'\n",
    "    clean_df.loc[clean_df['CANCELLATION_CODE'] == 0, 'CANCELLATION_CODE'] = 'N/A'\n",
    "    \n",
    "    # Give columns more intuitive names\n",
    "    clean_df = clean_df.rename(columns={'FL_DATE'          : 'Date',\n",
    "                                        'ORIGIN'           : 'Origin',\n",
    "                                        'DEST'             : 'Destination',\n",
    "                                        'CRS_DEP_TIME'     : 'Expected Departure Time',\n",
    "                                        'DEP_TIME'         : 'Actual Departure Time',\n",
    "                                        'DEP_DELAY'        : 'Departure Delay',\n",
    "                                        'CRS_ARR_TIME'     : 'Expected Arrival Time',\n",
    "                                        'ARR_TIME'         : 'Actual Arrival Time',\n",
    "                                        'ARR_DELAY'        : 'Arrival Delay',\n",
    "                                        'DISTANCE'         : 'Distance Traveled',\n",
    "                                        'CANCELLATION_CODE': 'Cancel Reason',\n",
    "                                        'WEATHER_DELAY'    : 'Weather Delay'})\n",
    "    return clean_df"
   ]
  },
  {
   "cell_type": "code",
   "execution_count": 13,
   "metadata": {},
   "outputs": [],
   "source": [
    "for year in range(2009,2019):           ## Takes about 7 minutes ##\n",
    "    output_path = 'clean_data/' + str(year) + '.csv'\n",
    "    clean_flight_data(year).to_csv(output_path, index=True)"
   ]
  }
 ],
 "metadata": {
  "kernelspec": {
   "display_name": "Python 3 (ipykernel)",
   "language": "python",
   "name": "python3"
  },
  "language_info": {
   "codemirror_mode": {
    "name": "ipython",
    "version": 3
   },
   "file_extension": ".py",
   "mimetype": "text/x-python",
   "name": "python",
   "nbconvert_exporter": "python",
   "pygments_lexer": "ipython3",
   "version": "3.7.7"
  },
  "varInspector": {
   "cols": {
    "lenName": 16,
    "lenType": 16,
    "lenVar": 40
   },
   "kernels_config": {
    "python": {
     "delete_cmd_postfix": "",
     "delete_cmd_prefix": "del ",
     "library": "var_list.py",
     "varRefreshCmd": "print(var_dic_list())"
    },
    "r": {
     "delete_cmd_postfix": ") ",
     "delete_cmd_prefix": "rm(",
     "library": "var_list.r",
     "varRefreshCmd": "cat(var_dic_list()) "
    }
   },
   "types_to_exclude": [
    "module",
    "function",
    "builtin_function_or_method",
    "instance",
    "_Feature"
   ],
   "window_display": false
  }
 },
 "nbformat": 4,
 "nbformat_minor": 2
}
