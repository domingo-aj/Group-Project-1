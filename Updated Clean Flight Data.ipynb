{
 "cells": [
  {
   "cell_type": "code",
   "execution_count": null,
   "id": "1b408c5f",
   "metadata": {},
   "outputs": [],
   "source": [
    "import pandas as pd "
   ]
  },
  {
   "cell_type": "code",
   "execution_count": null,
   "id": "56c4304f",
   "metadata": {},
   "outputs": [],
   "source": [
    "summary2015 = pd.read_csv('Data_Cleaning/clean_data/focused_airports_2015.csv')\n",
    "summary2016 = pd.read_csv('Data_Cleaning/clean_data/focused_airports_2016.csv')\n",
    "summary2017 = pd.read_csv('Data_Cleaning/clean_data/focused_airports_2017.csv')\n",
    "summary2018 = pd.read_csv('Data_Cleaning/clean_data/focused_airports_2018.csv')\n",
    "\n",
    "summary1 = summary2015.append(summary2016)\n",
    "summary2 = summary1.append(summary2017)\n",
    "summary = summary2.append(summary2018)\n",
    "\n",
    "total_flights = len(summary)"
   ]
  },
  {
   "cell_type": "code",
   "execution_count": null,
   "id": "de4382cc",
   "metadata": {},
   "outputs": [],
   "source": []
  }
 ],
 "metadata": {
  "kernelspec": {
   "display_name": "PythonData",
   "language": "python",
   "name": "pythondata"
  },
  "language_info": {
   "codemirror_mode": {
    "name": "ipython",
    "version": 3
   },
   "file_extension": ".py",
   "mimetype": "text/x-python",
   "name": "python",
   "nbconvert_exporter": "python",
   "pygments_lexer": "ipython3",
   "version": "3.7.7"
  }
 },
 "nbformat": 4,
 "nbformat_minor": 5
}
