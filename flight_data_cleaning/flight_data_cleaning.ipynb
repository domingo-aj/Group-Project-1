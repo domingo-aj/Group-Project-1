{
 "cells": [
  {
   "cell_type": "code",
   "execution_count": 1,
   "metadata": {},
   "outputs": [],
   "source": [
    "import pandas as pd"
   ]
  },
  {
   "cell_type": "code",
   "execution_count": 4,
   "metadata": {},
   "outputs": [],
   "source": [
    "focused_airports = ['ATL', 'LAX', 'ORD', 'DFW', 'DEN']"
   ]
  },
  {
   "cell_type": "code",
   "execution_count": 5,
   "metadata": {},
   "outputs": [],
   "source": [
    "def clean_flight_data(year):\n",
    "\n",
    "    file = \"raw_data/\" + str(year) + \".csv\"\n",
    "\n",
    "    original_df = pd.read_csv(file, sep=\",\", header=0, index_col=False,\n",
    "                              usecols=[0,3,4,5,6,7,12,13,14,16,21,23],\n",
    "                              na_filter = True)\\\n",
    "                             .reset_index(drop=True)\\\n",
    "                             .fillna(0)\n",
    "    \n",
    "    filtered_df = original_df.loc[(original_df['ORIGIN'].isin(focused_airports) & \\\n",
    "                                 ((original_df['CANCELLATION_CODE'] == 0 )| \\\n",
    "                                  (original_df['CANCELLATION_CODE'] == 'B'))), :]\n",
    "\n",
    "    filtered_df.loc[filtered_df['CANCELLATION_CODE'] == 'B', 'WEATHER_DELAY'] = 'CANCELLED'\n",
    "    filtered_df = filtered_df.drop(columns = 'CANCELLATION_CODE')\n",
    "    \n",
    "    filtered_df = filtered_df.rename(columns={'FL_DATE' : 'Date',\n",
    "                                        'ORIGIN'        : 'Origin',\n",
    "                                        'DEST'          : 'Destination',\n",
    "                                        'CRS_DEP_TIME'  : 'Expected Departure Time',\n",
    "                                        'DEP_TIME'      : 'Actual Departure Time',\n",
    "                                        'DEP_DELAY'     : 'Departure Delay',\n",
    "                                        'CRS_ARR_TIME'  : 'Expected Arrival Time',\n",
    "                                        'ARR_TIME'      : 'Arrival Time',\n",
    "                                        'ARR_DELAY'     : 'Arrival Delay',\n",
    "                                        'DISTANCE'      : 'Distance',\n",
    "                                        'WEATHER_DELAY' : 'Weather Delay'})\n",
    "\n",
    "    filtered_df = filtered_df[['Date', 'Origin', 'Destination', 'Expected Departure Time',\\\n",
    "                                       'Expected Arrival Time', 'Distance', 'Weather Delay']]\n",
    "    return filtered_df"
   ]
  },
  {
   "cell_type": "code",
   "execution_count": 6,
   "metadata": {},
   "outputs": [
    {
     "name": "stderr",
     "output_type": "stream",
     "text": [
      "C:\\Users\\itsme\\anaconda3\\envs\\PythonData\\lib\\site-packages\\pandas\\core\\indexing.py:966: SettingWithCopyWarning: \n",
      "A value is trying to be set on a copy of a slice from a DataFrame.\n",
      "Try using .loc[row_indexer,col_indexer] = value instead\n",
      "\n",
      "See the caveats in the documentation: https://pandas.pydata.org/pandas-docs/stable/user_guide/indexing.html#returning-a-view-versus-a-copy\n",
      "  self.obj[item] = s\n"
     ]
    }
   ],
   "source": [
    "for year in range(2015,2019):        ## Takes about 7 minutes ##\n",
    "    output_path = 'clean_data/focused_airports_' + str(year) + '.csv'\n",
    "    clean_flight_data(year).to_csv(output_path, index=False)"
   ]
  },
  {
   "cell_type": "code",
   "execution_count": null,
   "metadata": {},
   "outputs": [],
   "source": []
  }
 ],
 "metadata": {
  "kernelspec": {
   "display_name": "Python 3 (ipykernel)",
   "language": "python",
   "name": "python3"
  },
  "language_info": {
   "codemirror_mode": {
    "name": "ipython",
    "version": 3
   },
   "file_extension": ".py",
   "mimetype": "text/x-python",
   "name": "python",
   "nbconvert_exporter": "python",
   "pygments_lexer": "ipython3",
   "version": "3.7.7"
  },
  "varInspector": {
   "cols": {
    "lenName": 16,
    "lenType": 16,
    "lenVar": 40
   },
   "kernels_config": {
    "python": {
     "delete_cmd_postfix": "",
     "delete_cmd_prefix": "del ",
     "library": "var_list.py",
     "varRefreshCmd": "print(var_dic_list())"
    },
    "r": {
     "delete_cmd_postfix": ") ",
     "delete_cmd_prefix": "rm(",
     "library": "var_list.r",
     "varRefreshCmd": "cat(var_dic_list()) "
    }
   },
   "types_to_exclude": [
    "module",
    "function",
    "builtin_function_or_method",
    "instance",
    "_Feature"
   ],
   "window_display": false
  }
 },
 "nbformat": 4,
 "nbformat_minor": 2
}
