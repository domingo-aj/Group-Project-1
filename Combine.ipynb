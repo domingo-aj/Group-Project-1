{
 "cells": [
  {
   "cell_type": "code",
   "execution_count": 1,
   "id": "7bc22e10",
   "metadata": {},
   "outputs": [],
   "source": [
    "import pandas as pd"
   ]
  },
  {
   "cell_type": "code",
   "execution_count": null,
   "id": "d4aafbec",
   "metadata": {},
   "outputs": [],
   "source": [
    "# read csv file\n",
    "path = \"clean_data/weather_cancels_only.csv\"\n",
    "canceled_df = pd.read_csv(path)\n",
    "\n",
    "canceled_origins = canceled_df.loc[canceled_df['Origin']]\n",
    "canceled_dest = canceled_df.loc[canceled_df['Destination']]\n",
    "\n",
    "u_origins = canceled_origins.unique()\n",
    "u_dest = canceled_dest.unique()"
   ]
  },
  {
   "cell_type": "code",
   "execution_count": null,
   "id": "3a30c8dd",
   "metadata": {},
   "outputs": [],
   "source": [
    "# unique locations\n",
    "\n",
    "combined_locations = u_origins + u_dest\n",
    "locations_df = pd.DataFrame"
   ]
  }
 ],
 "metadata": {
  "kernelspec": {
   "display_name": "PythonData",
   "language": "python",
   "name": "pythondata"
  },
  "language_info": {
   "codemirror_mode": {
    "name": "ipython",
    "version": 3
   },
   "file_extension": ".py",
   "mimetype": "text/x-python",
   "name": "python",
   "nbconvert_exporter": "python",
   "pygments_lexer": "ipython3",
   "version": "3.7.7"
  }
 },
 "nbformat": 4,
 "nbformat_minor": 5
}
