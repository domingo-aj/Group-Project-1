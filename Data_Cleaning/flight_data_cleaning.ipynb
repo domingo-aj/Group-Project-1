{
 "cells": [
  {
   "cell_type": "code",
   "execution_count": 2,
   "metadata": {},
   "outputs": [],
   "source": [
    "import pandas as pd"
   ]
  },
  {
   "cell_type": "code",
   "execution_count": 2,
   "metadata": {},
   "outputs": [],
   "source": [
    "def clean_flight_data(year):\n",
    "\n",
    "    file = \"raw_data/\" + str(year) + \".csv\"\n",
    "\n",
    "    original_df = pd.read_csv(file, sep=\",\", header=0, index_col=False,\n",
    "                              usecols=[0,3,4,5,6,7,12,13,14,16,21,23],\n",
    "                              na_filter = True)\\\n",
    "                             .reset_index(drop=True)\\\n",
    "                             .fillna(0)\\\n",
    "                             .astype({'WEATHER_DELAY': 'int32'})\n",
    "    \n",
    "    filtered_df = original_df.loc[((original_df['CANCELLATION_CODE'] == 'B') |\n",
    "                                   (original_df['WEATHER_DELAY']      >  0)), :]\n",
    "\n",
    "    filtered_df.loc[filtered_df['CANCELLATION_CODE'] == 'B', 'WEATHER_DELAY'] = 'CANCELLED'\n",
    "    filtered_df = filtered_df.drop(columns = 'CANCELLATION_CODE')\n",
    "    \n",
    "    # Give columns more intuitive names\n",
    "    filtered_df = filtered_df.rename(columns={'FL_DATE' : 'Date',\n",
    "                                        'ORIGIN'        : 'Origin',\n",
    "                                        'DEST'          : 'Destination',\n",
    "                                        'CRS_DEP_TIME'  : 'Expected Departure Time',\n",
    "                                        'DEP_TIME'      : 'Actual Departure Time',\n",
    "                                        'DEP_DELAY'     : 'Departure Delay',\n",
    "                                        'CRS_ARR_TIME'  : 'Expected Arrival Time',\n",
    "                                        'ARR_TIME'      : 'Arrival Time',\n",
    "                                        'ARR_DELAY'     : 'Arrival Delay',\n",
    "                                        'DISTANCE'      : 'Distance',\n",
    "                                        'WEATHER_DELAY' : 'Weather Delay'})\n",
    "    cancelled_only_df = filtered_df.loc[filtered_df['Weather Delay'] == 'CANCELLED', :]\n",
    "\n",
    "    cancelled_only_df = cancelled_only_df[['Date', 'Origin', 'Destination', 'Expected Departure Time',\\\n",
    "                                       'Expected Arrival Time', 'Distance']]\n",
    "    return cancelled_only_df"
   ]
  },
  {
   "cell_type": "code",
   "execution_count": 18,
   "metadata": {},
   "outputs": [
    {
     "name": "stderr",
     "output_type": "stream",
     "text": [
      "C:\\Users\\itsme\\anaconda3\\envs\\PythonData\\lib\\site-packages\\pandas\\core\\indexing.py:966: SettingWithCopyWarning: \n",
      "A value is trying to be set on a copy of a slice from a DataFrame.\n",
      "Try using .loc[row_indexer,col_indexer] = value instead\n",
      "\n",
      "See the caveats in the documentation: https://pandas.pydata.org/pandas-docs/stable/user_guide/indexing.html#returning-a-view-versus-a-copy\n",
      "  self.obj[item] = s\n"
     ]
    }
   ],
   "source": [
    "weather_cancels_only_df = clean_flight_data(2009)        ## Takes about 7 minutes ##\n",
    "for year in range(2010,2019):\n",
    "    weather_cancels_only_df = pd.concat([weather_cancels_only_df, clean_flight_data(year)], axis=0, ignore_index=True)"
   ]
  },
  {
   "cell_type": "code",
   "execution_count": 19,
   "metadata": {},
   "outputs": [],
   "source": [
    "# output_path = 'clean_data/weather_cancels_only.csv'\n",
    "# weather_cancels_only_df.to_csv(output_path, index=False)"
   ]
  },
  {
   "cell_type": "code",
   "execution_count": 3,
   "metadata": {},
   "outputs": [
    {
     "ename": "NameError",
     "evalue": "name 'cancelled_only_df' is not defined",
     "output_type": "error",
     "traceback": [
      "\u001b[1;31m---------------------------------------------------------------------------\u001b[0m",
      "\u001b[1;31mNameError\u001b[0m                                 Traceback (most recent call last)",
      "\u001b[1;32m~\\AppData\\Local\\Temp\\ipykernel_20784\\1096763145.py\u001b[0m in \u001b[0;36m<module>\u001b[1;34m\u001b[0m\n\u001b[1;32m----> 1\u001b[1;33m \u001b[0mairports\u001b[0m \u001b[1;33m=\u001b[0m \u001b[0msorted\u001b[0m\u001b[1;33m(\u001b[0m\u001b[0mpd\u001b[0m\u001b[1;33m.\u001b[0m\u001b[0mconcat\u001b[0m\u001b[1;33m(\u001b[0m\u001b[1;33m[\u001b[0m\u001b[0mcancelled_only_df\u001b[0m\u001b[1;33m[\u001b[0m\u001b[1;34m'Origin'\u001b[0m\u001b[1;33m]\u001b[0m\u001b[1;33m,\u001b[0m \u001b[0mcancelled_only_df\u001b[0m\u001b[1;33m[\u001b[0m\u001b[1;34m'Destination'\u001b[0m\u001b[1;33m]\u001b[0m\u001b[1;33m]\u001b[0m\u001b[1;33m)\u001b[0m\u001b[1;33m.\u001b[0m\u001b[0munique\u001b[0m\u001b[1;33m(\u001b[0m\u001b[1;33m)\u001b[0m\u001b[1;33m)\u001b[0m\u001b[1;33m\u001b[0m\u001b[1;33m\u001b[0m\u001b[0m\n\u001b[0m\u001b[0;32m      2\u001b[0m \u001b[0mairports\u001b[0m\u001b[1;33m[\u001b[0m\u001b[1;36m0\u001b[0m\u001b[1;33m:\u001b[0m\u001b[1;36m11\u001b[0m\u001b[1;33m]\u001b[0m\u001b[1;33m\u001b[0m\u001b[1;33m\u001b[0m\u001b[0m\n",
      "\u001b[1;31mNameError\u001b[0m: name 'cancelled_only_df' is not defined"
     ]
    }
   ],
   "source": [
    "airports = sorted(pd.concat([cancelled_only_df['Origin'], cancelled_only_df['Destination']]).unique())\n",
    "airports[0:11]"
   ]
  },
  {
   "cell_type": "code",
   "execution_count": null,
   "metadata": {},
   "outputs": [],
   "source": []
  }
 ],
 "metadata": {
  "kernelspec": {
   "display_name": "Python 3 (ipykernel)",
   "language": "python",
   "name": "python3"
  },
  "language_info": {
   "codemirror_mode": {
    "name": "ipython",
    "version": 3
   },
   "file_extension": ".py",
   "mimetype": "text/x-python",
   "name": "python",
   "nbconvert_exporter": "python",
   "pygments_lexer": "ipython3",
   "version": "3.7.7"
  },
  "varInspector": {
   "cols": {
    "lenName": 16,
    "lenType": 16,
    "lenVar": 40
   },
   "kernels_config": {
    "python": {
     "delete_cmd_postfix": "",
     "delete_cmd_prefix": "del ",
     "library": "var_list.py",
     "varRefreshCmd": "print(var_dic_list())"
    },
    "r": {
     "delete_cmd_postfix": ") ",
     "delete_cmd_prefix": "rm(",
     "library": "var_list.r",
     "varRefreshCmd": "cat(var_dic_list()) "
    }
   },
   "types_to_exclude": [
    "module",
    "function",
    "builtin_function_or_method",
    "instance",
    "_Feature"
   ],
   "window_display": false
  }
 },
 "nbformat": 4,
 "nbformat_minor": 2
}
