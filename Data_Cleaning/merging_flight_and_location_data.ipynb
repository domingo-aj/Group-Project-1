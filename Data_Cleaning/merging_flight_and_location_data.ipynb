{
 "cells": [
  {
   "cell_type": "code",
   "execution_count": 29,
   "id": "07cd786f",
   "metadata": {},
   "outputs": [],
   "source": [
    "import pandas as pd"
   ]
  },
  {
   "cell_type": "code",
   "execution_count": 30,
   "id": "37c10194",
   "metadata": {},
   "outputs": [],
   "source": [
    "path = \"clean_data/weather_cancels_only.csv\"\n",
    "flights_df = pd.read_csv(path)\n",
    "\n",
    "path = \"clean_data/us_airport_location_data.csv\"\n",
    "location_df = pd.read_csv(path)"
   ]
  },
  {
   "cell_type": "code",
   "execution_count": 31,
   "id": "be304583",
   "metadata": {},
   "outputs": [
    {
     "data": {
      "text/plain": [
       "['ABE', 'ABI', 'ABQ', 'ABR', 'ABY', 'ACK', 'ACT', 'ACV', 'ACY', 'ADK', 'ADQ']"
      ]
     },
     "execution_count": 31,
     "metadata": {},
     "output_type": "execute_result"
    }
   ],
   "source": [
    "airports_with_flights = sorted(pd.concat([flights_df['Origin'], flights_df['Destination']]).unique())\n",
    "airports_with_flights[0:11]"
   ]
  },
  {
   "cell_type": "code",
   "execution_count": 32,
   "id": "b82a12c7",
   "metadata": {},
   "outputs": [],
   "source": [
    "location_df = location_df.loc[location_df['Airport'].isin(airports_with_flights), :].set_index('Airport')"
   ]
  },
  {
   "cell_type": "code",
   "execution_count": 33,
   "id": "d6b8045b",
   "metadata": {},
   "outputs": [
    {
     "data": {
      "text/plain": [
       "['ABI', 'ACK', 'ACT', 'ACY', 'AEX', 'AGS', 'ALB', 'AMA', 'ART', 'ATL', 'AUS']"
      ]
     },
     "execution_count": 33,
     "metadata": {},
     "output_type": "execute_result"
    }
   ],
   "source": [
    "airports_with_flights_and_location_data = list(location_df.index)\n",
    "airports_with_flights_and_location_data[0:11]"
   ]
  },
  {
   "cell_type": "code",
   "execution_count": 34,
   "id": "ac962ecb",
   "metadata": {},
   "outputs": [],
   "source": [
    "flights_df = flights_df.loc[flights_df['Origin'].isin(airports_with_flights_and_location_data) &\n",
    "                            flights_df['Destination'].isin(airports_with_flights_and_location_data), :].reset_index(drop=True)"
   ]
  },
  {
   "cell_type": "code",
   "execution_count": 35,
   "id": "6eb337f8",
   "metadata": {},
   "outputs": [],
   "source": [
    "origins = flights_df.loc[:, 'Origin']\n",
    "origin_lats = origins.apply(lambda x: location_df.loc[str(x), 'Latitude'] )\n",
    "origin_lngs = origins.apply(lambda x: location_df.loc[str(x), 'Longitude'] )"
   ]
  },
  {
   "cell_type": "code",
   "execution_count": 36,
   "id": "d0204d5a",
   "metadata": {},
   "outputs": [],
   "source": [
    "destinations = flights_df.loc[:, 'Destination']\n",
    "destination_lats = origins.apply(lambda x: location_df.loc[str(x), 'Latitude'] )\n",
    "destination_lngs = origins.apply(lambda x: location_df.loc[str(x), 'Longitude'] )"
   ]
  },
  {
   "cell_type": "code",
   "execution_count": 37,
   "id": "7493155d",
   "metadata": {},
   "outputs": [],
   "source": [
    "flights_df['Origin Latitude'] = origin_lats\n",
    "flights_df['Origin Longitude'] = origin_lngs\n",
    "flights_df['Destination Latitude'] = destination_lats\n",
    "flights_df['Destination Longitude'] = destination_lngs"
   ]
  },
  {
   "cell_type": "code",
   "execution_count": 38,
   "id": "7c85ecc9",
   "metadata": {},
   "outputs": [],
   "source": [
    "output_path = 'clean_data/cancelled_flights_with_location_data.csv'\n",
    "flights_df.to_csv(output_path, index=False)"
   ]
  },
  {
   "cell_type": "code",
   "execution_count": null,
   "id": "c5a3c7f5",
   "metadata": {},
   "outputs": [],
   "source": []
  }
 ],
 "metadata": {
  "kernelspec": {
   "display_name": "PythonData",
   "language": "python",
   "name": "pythondata"
  },
  "language_info": {
   "codemirror_mode": {
    "name": "ipython",
    "version": 3
   },
   "file_extension": ".py",
   "mimetype": "text/x-python",
   "name": "python",
   "nbconvert_exporter": "python",
   "pygments_lexer": "ipython3",
   "version": "3.7.7"
  }
 },
 "nbformat": 4,
 "nbformat_minor": 5
}
