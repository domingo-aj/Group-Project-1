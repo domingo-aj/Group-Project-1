{
 "cells": [
  {
   "cell_type": "code",
   "execution_count": 2,
   "id": "1ac97370",
   "metadata": {},
   "outputs": [],
   "source": [
    "import pandas as pd"
   ]
  },
  {
   "cell_type": "code",
   "execution_count": 77,
   "id": "584f2875",
   "metadata": {},
   "outputs": [],
   "source": [
    "path = \"GlobalAirportDatabase/GlobalAirportDatabaseClean.csv\"\n",
    "airport_data = pd.read_csv(path, usecols=[1, 4, 5, 6])"
   ]
  },
  {
   "cell_type": "code",
   "execution_count": 84,
   "id": "f8428966",
   "metadata": {},
   "outputs": [],
   "source": [
    "us_airport_data = airport_data.loc[((airport_data['Country'] == 'USA') &\n",
    "                                   ((airport_data['Latitude Decimal Degrees']  != 0 )|\n",
    "                                    (airport_data['Longitude Decimal Degrees'] != 0))), :]\\\n",
    "                              .drop(columns='Country')\\\n",
    "                              .dropna()\\\n",
    "                              .reset_index(drop=True)\\\n",
    "                              .rename(columns={'IATA Code' : 'Airport',\n",
    "                                               'Latitude Decimal Degrees'  : 'Latitude',\n",
    "                                               'Longitude Decimal Degrees' : 'Longitude'})"
   ]
  },
  {
   "cell_type": "code",
   "execution_count": 89,
   "id": "d16303c7",
   "metadata": {},
   "outputs": [],
   "source": [
    "output_path = 'clean_data/us_airport_location_data.csv'\n",
    "us_airport_data.to_csv(output_path, index=False)"
   ]
  }
 ],
 "metadata": {
  "kernelspec": {
   "display_name": "PythonData",
   "language": "python",
   "name": "pythondata"
  },
  "language_info": {
   "codemirror_mode": {
    "name": "ipython",
    "version": 3
   },
   "file_extension": ".py",
   "mimetype": "text/x-python",
   "name": "python",
   "nbconvert_exporter": "python",
   "pygments_lexer": "ipython3",
   "version": "3.7.7"
  }
 },
 "nbformat": 4,
 "nbformat_minor": 5
}
